{
 "cells": [
  {
   "cell_type": "code",
   "execution_count": 1,
   "metadata": {},
   "outputs": [
    {
     "name": "stdout",
     "output_type": "stream",
     "text": [
      "successfully loaded your custom FW_config.yaml!\n"
     ]
    }
   ],
   "source": [
    "from gaspy.tasks.db_managers import catalog\n",
    "from pymatgen import MPRester\n",
    "from gaspy.utils import read_rc\n",
    "from gaspy.tasks.core import schedule_tasks, get_task_output\n",
    "matproj_api_key = 'B7pkHxCQtALPzGRy'\n"
   ]
  },
  {
   "cell_type": "code",
   "execution_count": 2,
   "metadata": {},
   "outputs": [],
   "source": [
    "all_elements = set(['Ac', 'Ag', 'Al', 'Am', 'Ar', 'As', 'At', 'Au',\n",
    "                    'B', 'Ba', 'Be', 'Bh', 'Bi', 'Bk', 'Br', 'C', 'Ca',\n",
    "                    'Cd', 'Ce', 'Cf', 'Cl', 'Cm', 'Cn', 'Co', 'Cr',\n",
    "                    'Cs', 'Cu', 'Db', 'Ds', 'Dy', 'Er', 'Es', 'Eu',\n",
    "                    'F', 'Fe', 'Fl', 'Fm', 'Fr', 'Ga', 'Gd', 'Ge', 'H',\n",
    "                    'He', 'Hf', 'Hg', 'Ho', 'Hs', 'I', 'In', 'Ir', 'K',\n",
    "                    'Kr', 'La', 'Li', 'Lr', 'Lu', 'Lv', 'Mc', 'Md',\n",
    "                    'Mg', 'Mn', 'Mo', 'Mt', 'N', 'Na', 'Nb', 'Nd',\n",
    "                    'Ne', 'Nh', 'Ni', 'No', 'Np', 'O', 'Og', 'Os', 'P',\n",
    "                    'Pa', 'Pb', 'Pd', 'Pm', 'Po', 'Pr', 'Pt', 'Pu',\n",
    "                    'Ra', 'Rb', 'Re', 'Rf', 'Rg', 'Rh', 'Rn', 'Ru',\n",
    "                    'S', 'Sb', 'Sc', 'Se', 'Sg', 'Si', 'Sm', 'Sn',\n",
    "                    'Sr', 'Ta', 'Tb', 'Tc', 'Te', 'Th', 'Ti', 'Tl',\n",
    "                    'Tm', 'Ts', 'U', 'V', 'W', 'Xe', 'Y', 'Yb', 'Zn',\n",
    "                    'Zr'])\n",
    "\n",
    "elements_restricted = ['H','Li','Be','Na','Mg','K','Ca','Rb','Sr','Cs','Ba','Fr','Ra', # alkali and alkali earth removed.\n",
    "                      'La','Ce','Pr','Nd','Pm','Sm','Eu','Gd','Tb','Dy','Ho','Er','Tm','Yb','Lu',\n",
    "                      'Ac','Th','Pa','U','Np','Pu','Am','Cm','Bk','Cf','Es','Fm','Md','No','Lr', # Lanthanide\n",
    "                      'Rf','Db','Sg','Bh','Hs','Mt','Ds','Rg','Cn','Nh','Fl','Mc','Lv','Ts','Og',# 6d transition metals\n",
    "                      'He','Ne','Ar','Kr','Xe','Rn','F','Cl','Br','I','At','O'] # rest\n",
    "elements = all_elements #- elements_restricted\n",
    "\n",
    "query = {'elements': {'$nin': list(elements_restricted)},\n",
    "                 'e_above_hull': {'$lt': 0.1},\n",
    "                 'formation_energy_per_atom': {'$lte': 0.}}\n",
    "\n",
    "get_mpid_task = catalog._GetMpids(elements=elements, mp_query=query)"
   ]
  },
  {
   "cell_type": "code",
   "execution_count": 3,
   "metadata": {},
   "outputs": [
    {
     "name": "stderr",
     "output_type": "stream",
     "text": [
      "DEBUG: Checking if _GetMpids(elements=[\"Sc\", \"Ac\", \"Cl\", \"Eu\", \"Cs\", \"La\", \"Ge\", \"Ba\", \"Te\", \"C\", \"Ga\", \"Rn\", \"Ca\", \"Co\", \"Hf\", \"Hg\", \"Si\", \"Dy\", \"Ir\", \"Nb\", \"Au\", \"Sb\", \"Sg\", \"Mn\", \"Th\", \"Bk\", \"No\", \"Ne\", \"Lu\", \"Tb\", \"Fe\", \"Os\", \"Cm\", \"Rg\", \"Er\", \"He\", \"Br\", \"Tc\", \"Rb\", \"Bh\", \"Rf\", \"S\", \"Fm\", \"Pu\", \"Sn\", \"Sr\", \"U\", \"Ce\", \"Kr\", \"Pt\", \"O\", \"Ag\", \"Cn\", \"Mg\", \"Lv\", \"Mo\", \"Db\", \"P\", \"As\", \"Ni\", \"Ru\", \"Ds\", \"Lr\", \"Ta\", \"Po\", \"Am\", \"At\", \"Cf\", \"Cr\", \"Fl\", \"Nh\", \"Np\", \"Fr\", \"Mt\", \"Xe\", \"V\", \"Re\", \"Hs\", \"Rh\", \"W\", \"Tm\", \"Ti\", \"Ra\", \"Ar\", \"Pm\", \"Na\", \"Zn\", \"Yb\", \"Cu\", \"N\", \"Gd\", \"Pa\", \"Tl\", \"Ts\", \"Es\", \"Li\", \"Zr\", \"Al\", \"Mc\", \"Ho\", \"Se\", \"In\", \"Sm\", \"Bi\", \"Pb\", \"I\", \"H\", \"Pd\", \"Pr\", \"Nd\", \"F\", \"Md\", \"Be\", \"Cd\", \"K\", \"B\", \"Og\", \"Y\"], mp_query={\"elements\": {\"$nin\": [\"H\", \"Li\", \"Be\", \"Na\", \"Mg\", \"K\", \"Ca\", \"Rb\", \"Sr\", \"Cs\", \"Ba\", \"Fr\", \"Ra\", \"La\", \"Ce\", \"Pr\", \"Nd\", \"Pm\", \"Sm\", \"Eu\", \"Gd\", \"Tb\", \"Dy\", \"Ho\", \"Er\", \"Tm\", \"Yb\", \"Lu\", \"Ac\", \"Th\", \"Pa\", \"U\", \"Np\", \"Pu\", \"Am\", \"Cm\", \"Bk\", \"Cf\", \"Es\", \"Fm\", \"Md\", \"No\", \"Lr\", \"Rf\", \"Db\", \"Sg\", \"Bh\", \"Hs\", \"Mt\", \"Ds\", \"Rg\", \"Cn\", \"Nh\", \"Fl\", \"Mc\", \"Lv\", \"Ts\", \"Og\", \"He\", \"Ne\", \"Ar\", \"Kr\", \"Xe\", \"Rn\", \"F\", \"Cl\", \"Br\", \"I\", \"At\", \"O\"]}, \"e_above_hull\": {\"$lt\": 0.1}, \"formation_energy_per_atom\": {\"$lte\": 0.0}}) is complete\n",
      "INFO: Informed scheduler that task   _GetMpids___Sc____Ac____Cl___elements_______de263379af   has status   PENDING\n",
      "INFO: Done scheduling tasks\n",
      "INFO: Running Worker with 1 processes\n",
      "DEBUG: Asking scheduler for work...\n",
      "DEBUG: Pending tasks: 1\n",
      "INFO: [pid 45782] Worker Worker(salt=285543488, workers=1, host=cori19, username=sback, pid=45782) running   _GetMpids(elements=[\"Sc\", \"Ac\", \"Cl\", \"Eu\", \"Cs\", \"La\", \"Ge\", \"Ba\", \"Te\", \"C\", \"Ga\", \"Rn\", \"Ca\", \"Co\", \"Hf\", \"Hg\", \"Si\", \"Dy\", \"Ir\", \"Nb\", \"Au\", \"Sb\", \"Sg\", \"Mn\", \"Th\", \"Bk\", \"No\", \"Ne\", \"Lu\", \"Tb\", \"Fe\", \"Os\", \"Cm\", \"Rg\", \"Er\", \"He\", \"Br\", \"Tc\", \"Rb\", \"Bh\", \"Rf\", \"S\", \"Fm\", \"Pu\", \"Sn\", \"Sr\", \"U\", \"Ce\", \"Kr\", \"Pt\", \"O\", \"Ag\", \"Cn\", \"Mg\", \"Lv\", \"Mo\", \"Db\", \"P\", \"As\", \"Ni\", \"Ru\", \"Ds\", \"Lr\", \"Ta\", \"Po\", \"Am\", \"At\", \"Cf\", \"Cr\", \"Fl\", \"Nh\", \"Np\", \"Fr\", \"Mt\", \"Xe\", \"V\", \"Re\", \"Hs\", \"Rh\", \"W\", \"Tm\", \"Ti\", \"Ra\", \"Ar\", \"Pm\", \"Na\", \"Zn\", \"Yb\", \"Cu\", \"N\", \"Gd\", \"Pa\", \"Tl\", \"Ts\", \"Es\", \"Li\", \"Zr\", \"Al\", \"Mc\", \"Ho\", \"Se\", \"In\", \"Sm\", \"Bi\", \"Pb\", \"I\", \"H\", \"Pd\", \"Pr\", \"Nd\", \"F\", \"Md\", \"Be\", \"Cd\", \"K\", \"B\", \"Og\", \"Y\"], mp_query={\"elements\": {\"$nin\": [\"H\", \"Li\", \"Be\", \"Na\", \"Mg\", \"K\", \"Ca\", \"Rb\", \"Sr\", \"Cs\", \"Ba\", \"Fr\", \"Ra\", \"La\", \"Ce\", \"Pr\", \"Nd\", \"Pm\", \"Sm\", \"Eu\", \"Gd\", \"Tb\", \"Dy\", \"Ho\", \"Er\", \"Tm\", \"Yb\", \"Lu\", \"Ac\", \"Th\", \"Pa\", \"U\", \"Np\", \"Pu\", \"Am\", \"Cm\", \"Bk\", \"Cf\", \"Es\", \"Fm\", \"Md\", \"No\", \"Lr\", \"Rf\", \"Db\", \"Sg\", \"Bh\", \"Hs\", \"Mt\", \"Ds\", \"Rg\", \"Cn\", \"Nh\", \"Fl\", \"Mc\", \"Lv\", \"Ts\", \"Og\", \"He\", \"Ne\", \"Ar\", \"Kr\", \"Xe\", \"Rn\", \"F\", \"Cl\", \"Br\", \"I\", \"At\", \"O\"]}, \"e_above_hull\": {\"$lt\": 0.1}, \"formation_energy_per_atom\": {\"$lte\": 0.0}})\n"
     ]
    },
    {
     "data": {
      "application/vnd.jupyter.widget-view+json": {
       "model_id": "3405f0ad86194a7781fa5349eff842f8",
       "version_major": 2,
       "version_minor": 0
      },
      "text/plain": [
       "HBox(children=(IntProgress(value=0, max=11476), HTML(value='')))"
      ]
     },
     "metadata": {},
     "output_type": "display_data"
    },
    {
     "name": "stderr",
     "output_type": "stream",
     "text": [
      "INFO: [pid 45782] Worker Worker(salt=285543488, workers=1, host=cori19, username=sback, pid=45782) done      _GetMpids(elements=[\"Sc\", \"Ac\", \"Cl\", \"Eu\", \"Cs\", \"La\", \"Ge\", \"Ba\", \"Te\", \"C\", \"Ga\", \"Rn\", \"Ca\", \"Co\", \"Hf\", \"Hg\", \"Si\", \"Dy\", \"Ir\", \"Nb\", \"Au\", \"Sb\", \"Sg\", \"Mn\", \"Th\", \"Bk\", \"No\", \"Ne\", \"Lu\", \"Tb\", \"Fe\", \"Os\", \"Cm\", \"Rg\", \"Er\", \"He\", \"Br\", \"Tc\", \"Rb\", \"Bh\", \"Rf\", \"S\", \"Fm\", \"Pu\", \"Sn\", \"Sr\", \"U\", \"Ce\", \"Kr\", \"Pt\", \"O\", \"Ag\", \"Cn\", \"Mg\", \"Lv\", \"Mo\", \"Db\", \"P\", \"As\", \"Ni\", \"Ru\", \"Ds\", \"Lr\", \"Ta\", \"Po\", \"Am\", \"At\", \"Cf\", \"Cr\", \"Fl\", \"Nh\", \"Np\", \"Fr\", \"Mt\", \"Xe\", \"V\", \"Re\", \"Hs\", \"Rh\", \"W\", \"Tm\", \"Ti\", \"Ra\", \"Ar\", \"Pm\", \"Na\", \"Zn\", \"Yb\", \"Cu\", \"N\", \"Gd\", \"Pa\", \"Tl\", \"Ts\", \"Es\", \"Li\", \"Zr\", \"Al\", \"Mc\", \"Ho\", \"Se\", \"In\", \"Sm\", \"Bi\", \"Pb\", \"I\", \"H\", \"Pd\", \"Pr\", \"Nd\", \"F\", \"Md\", \"Be\", \"Cd\", \"K\", \"B\", \"Og\", \"Y\"], mp_query={\"elements\": {\"$nin\": [\"H\", \"Li\", \"Be\", \"Na\", \"Mg\", \"K\", \"Ca\", \"Rb\", \"Sr\", \"Cs\", \"Ba\", \"Fr\", \"Ra\", \"La\", \"Ce\", \"Pr\", \"Nd\", \"Pm\", \"Sm\", \"Eu\", \"Gd\", \"Tb\", \"Dy\", \"Ho\", \"Er\", \"Tm\", \"Yb\", \"Lu\", \"Ac\", \"Th\", \"Pa\", \"U\", \"Np\", \"Pu\", \"Am\", \"Cm\", \"Bk\", \"Cf\", \"Es\", \"Fm\", \"Md\", \"No\", \"Lr\", \"Rf\", \"Db\", \"Sg\", \"Bh\", \"Hs\", \"Mt\", \"Ds\", \"Rg\", \"Cn\", \"Nh\", \"Fl\", \"Mc\", \"Lv\", \"Ts\", \"Og\", \"He\", \"Ne\", \"Ar\", \"Kr\", \"Xe\", \"Rn\", \"F\", \"Cl\", \"Br\", \"I\", \"At\", \"O\"]}, \"e_above_hull\": {\"$lt\": 0.1}, \"formation_energy_per_atom\": {\"$lte\": 0.0}})\n",
      "DEBUG: 1 running tasks, waiting for next task to finish\n",
      "INFO: Informed scheduler that task   _GetMpids___Sc____Ac____Cl___elements_______de263379af   has status   DONE\n",
      "DEBUG: Asking scheduler for work...\n",
      "DEBUG: Done\n",
      "DEBUG: There are no more tasks to run at this time\n",
      "INFO: Worker Worker(salt=285543488, workers=1, host=cori19, username=sback, pid=45782) was stopped. Shutting down Keep-Alive thread\n",
      "INFO: \n",
      "===== Luigi Execution Summary =====\n",
      "\n",
      "Scheduled 1 tasks of which:\n",
      "* 1 ran successfully:\n",
      "    - 1 _GetMpids(...)\n",
      "\n",
      "This progress looks :) because there were no failed tasks or missing dependencies\n",
      "\n",
      "===== Luigi Execution Summary =====\n",
      "\n"
     ]
    }
   ],
   "source": [
    "schedule_tasks([get_mpid_task])\n",
    "mpids = get_task_output(get_mpid_task)"
   ]
  },
  {
   "cell_type": "code",
   "execution_count": 4,
   "metadata": {},
   "outputs": [
    {
     "data": {
      "text/plain": [
       "11476"
      ]
     },
     "execution_count": 4,
     "metadata": {},
     "output_type": "execute_result"
    }
   ],
   "source": [
    "mpids = [i for i in mpids]\n",
    "len(mpids)"
   ]
  },
  {
   "cell_type": "code",
   "execution_count": 5,
   "metadata": {},
   "outputs": [],
   "source": [
    "import pickle\n",
    "# Save processed data\n",
    "with open('all_mpid_list.pkl', 'wb') as handle:\n",
    "    pickle.dump(mpids, handle)\n",
    "\n"
   ]
  },
  {
   "cell_type": "code",
   "execution_count": 6,
   "metadata": {},
   "outputs": [],
   "source": [
    "\n",
    "def get_structures_mpid(mpid):\n",
    "    with MPRester(matproj_api_key) as m:\n",
    "        st = m.get_structure_by_material_id(material_id=mpid, final=True)\n",
    "    return st"
   ]
  },
  {
   "cell_type": "code",
   "execution_count": 7,
   "metadata": {},
   "outputs": [
    {
     "data": {
      "application/vnd.jupyter.widget-view+json": {
       "model_id": "f674a89abc254cd4996fbeb1b507e749",
       "version_major": 2,
       "version_minor": 0
      },
      "text/plain": [
       "HBox(children=(IntProgress(value=0, max=11476), HTML(value='')))"
      ]
     },
     "metadata": {},
     "output_type": "display_data"
    },
    {
     "name": "stdout",
     "output_type": "stream",
     "text": [
      "\n"
     ]
    }
   ],
   "source": [
    "from joblib import Memory\n",
    "import multiprocess as mp\n",
    "from tqdm.notebook import tqdm\n",
    "\n",
    "memory = Memory('./cached_structures', verbose=0)\n",
    "cached_str = memory.cache(get_structures_mpid)\n",
    "\n",
    "# Add fingerprints    \n",
    "with mp.Pool(32) as pool:\n",
    "    structures = list(tqdm(pool.imap(cached_str, mpids), total=len(mpids)))\n",
    "\n",
    "\n"
   ]
  },
  {
   "cell_type": "code",
   "execution_count": 8,
   "metadata": {},
   "outputs": [],
   "source": [
    "import pickle\n",
    "# Save processed data\n",
    "with open('all_mpid_structures.pkl', 'wb') as handle:\n",
    "    pickle.dump(structures, handle)\n",
    "\n"
   ]
  },
  {
   "cell_type": "code",
   "execution_count": null,
   "metadata": {},
   "outputs": [],
   "source": []
  }
 ],
 "metadata": {
  "kernelspec": {
   "display_name": "gaspy_ktran",
   "language": "python",
   "name": "gaspy_updated_modules"
  },
  "language_info": {
   "codemirror_mode": {
    "name": "ipython",
    "version": 3
   },
   "file_extension": ".py",
   "mimetype": "text/x-python",
   "name": "python",
   "nbconvert_exporter": "python",
   "pygments_lexer": "ipython3",
   "version": "3.6.7"
  }
 },
 "nbformat": 4,
 "nbformat_minor": 4
}
